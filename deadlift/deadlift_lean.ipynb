{
 "cells": [
  {
   "cell_type": "code",
   "execution_count": 1,
   "metadata": {},
   "outputs": [],
   "source": [
    "import mediapipe as mp\n",
    "import cv2\n",
    "import numpy as np"
   ]
  },
  {
   "cell_type": "code",
   "execution_count": 2,
   "metadata": {},
   "outputs": [],
   "source": [
    "mp_drawing = mp.solutions.drawing_utils\n",
    "mp_pose = mp.solutions.pose"
   ]
  },
  {
   "cell_type": "markdown",
   "metadata": {},
   "source": [
    "Saving the Video"
   ]
  },
  {
   "cell_type": "code",
   "execution_count": 72,
   "metadata": {},
   "outputs": [],
   "source": [
    "import time\n",
    "cap = cv2.VideoCapture(0)\n",
    "time.sleep(5)\n",
    "height = cap.get(cv2.CAP_PROP_FRAME_HEIGHT)\n",
    "width = cap.get(cv2.CAP_PROP_FRAME_WIDTH)\n",
    "fps = cap.get(cv2.CAP_PROP_FPS)\n",
    "fourcc = cv2.VideoWriter_fourcc('P','I','M','1')\n",
    "videoWriter = cv2.VideoWriter('lean.avi',fourcc,fps,(int(width),int(height)))\n",
    "\n",
    "while cap.isOpened():\n",
    "    ret,frame = cap.read()\n",
    "\n",
    "    try:\n",
    "        cv2.imshow('Press',frame)\n",
    "        videoWriter.write(frame)\n",
    "    except Exception as e:\n",
    "        print(e)\n",
    "        break\n",
    "    if cv2.waitKey(10) & 0xFF == ord('q'):\n",
    "        break\n",
    "cap.release()\n",
    "videoWriter.release()\n",
    "cv2.destroyAllWindows()"
   ]
  },
  {
   "cell_type": "markdown",
   "metadata": {},
   "source": [
    "Capturing Landmarks and Saving it to CSV"
   ]
  },
  {
   "cell_type": "code",
   "execution_count": 43,
   "metadata": {},
   "outputs": [],
   "source": [
    "import csv\n",
    "import os\n",
    "import numpy as np\n",
    "import matplotlib.pyplot as plt"
   ]
  },
  {
   "cell_type": "code",
   "execution_count": 73,
   "metadata": {},
   "outputs": [],
   "source": [
    "landmarks = ['class']  # Class is Y - target value\n",
    "for val in range(1,33+1):\n",
    "    landmarks+=['x{}'.format(val),'y{}'.format(val),'z{}'.format(val),'v{}'.format(val)]"
   ]
  },
  {
   "cell_type": "code",
   "execution_count": 74,
   "metadata": {},
   "outputs": [],
   "source": [
    "with open('lean.csv',mode='w',newline='') as f:\n",
    "    csv_writer = csv.writer(f,delimiter=',',quotechar='\"',quoting=csv.QUOTE_MINIMAL)\n",
    "    csv_writer.writerow(landmarks)"
   ]
  },
  {
   "cell_type": "code",
   "execution_count": 75,
   "metadata": {},
   "outputs": [],
   "source": [
    "# Function for exporting the landmarks to train\n",
    "def export_landmark(results,action):\n",
    "    try:\n",
    "        keypoints = np.array([[res.x,res.y,res.z,res.visibility] for res in results.pose_landmarks.landmark]).flatten()\n",
    "        keypoints = np.insert(keypoints,0,action)\n",
    "\n",
    "        with open('lean.csv',mode='a',newline='') as f: # a stands for append\n",
    "            csv_writer = csv.writer(f,delimiter=',',quotechar='\"',quoting=csv.QUOTE_MINIMAL)\n",
    "            csv_writer.writerow(keypoints)\n",
    "    except Exception as e:\n",
    "        print(e)\n",
    "        pass"
   ]
  },
  {
   "cell_type": "code",
   "execution_count": 76,
   "metadata": {},
   "outputs": [],
   "source": [
    "cap = cv2.VideoCapture('lean.avi')\n",
    "# initiate the holistic model\n",
    "with mp_pose.Pose(min_detection_confidence=0.5,min_tracking_confidence=0.5) as pose:\n",
    "    while cap.isOpened():\n",
    "        ret,image = cap.read()\n",
    "        # Recolor the feed\n",
    "        if image is None: break\n",
    "        image = cv2.cvtColor(image,cv2.COLOR_BGR2RGB)\n",
    "        image.flags.writeable = False\n",
    "\n",
    "        # Make Detections\n",
    "        results = pose.process(image)\n",
    "\n",
    "        # Recoloring the image back for rendering\n",
    "        image.flags.writeable = True\n",
    "        image = cv2.cvtColor(image,cv2.COLOR_RGB2BGR)\n",
    "\n",
    "        mp_drawing.draw_landmarks(image,results.pose_landmarks,mp_pose.POSE_CONNECTIONS\n",
    "                                  , mp_drawing.DrawingSpec(color=(245,117,66),thickness=2,circle_radius=4),\n",
    "                                  mp_drawing.DrawingSpec(color=(245,66,230),thickness=2,circle_radius=2))\n",
    "        \n",
    "        k = cv2.waitKey(1)\n",
    "        if k==97: # a key \n",
    "            export_landmark(results,0) # 0 -> left \n",
    "        if k==115:# s key\n",
    "            export_landmark(results,1) # 1 -> Centre\n",
    "        if k==100:# d key\n",
    "            export_landmark(results,2) # 2 -> Right\n",
    "\n",
    "        cv2.imshow('Raw Cam Feed',image)\n",
    "        if cv2.waitKey(10) & 0xFF == ord('q'):\n",
    "            break\n",
    "\n",
    "cap.release()\n",
    "cv2.destroyAllWindows()"
   ]
  },
  {
   "cell_type": "markdown",
   "metadata": {},
   "source": [
    "Training the labelled Data on a Classification Model"
   ]
  },
  {
   "cell_type": "code",
   "execution_count": 77,
   "metadata": {},
   "outputs": [],
   "source": [
    "import pandas as pd\n",
    "from sklearn.model_selection import train_test_split"
   ]
  },
  {
   "cell_type": "code",
   "execution_count": 78,
   "metadata": {},
   "outputs": [
    {
     "data": {
      "text/html": [
       "<div>\n",
       "<style scoped>\n",
       "    .dataframe tbody tr th:only-of-type {\n",
       "        vertical-align: middle;\n",
       "    }\n",
       "\n",
       "    .dataframe tbody tr th {\n",
       "        vertical-align: top;\n",
       "    }\n",
       "\n",
       "    .dataframe thead th {\n",
       "        text-align: right;\n",
       "    }\n",
       "</style>\n",
       "<table border=\"1\" class=\"dataframe\">\n",
       "  <thead>\n",
       "    <tr style=\"text-align: right;\">\n",
       "      <th></th>\n",
       "      <th>class</th>\n",
       "      <th>x1</th>\n",
       "      <th>y1</th>\n",
       "      <th>z1</th>\n",
       "      <th>v1</th>\n",
       "      <th>x2</th>\n",
       "      <th>y2</th>\n",
       "      <th>z2</th>\n",
       "      <th>v2</th>\n",
       "      <th>x3</th>\n",
       "      <th>...</th>\n",
       "      <th>z31</th>\n",
       "      <th>v31</th>\n",
       "      <th>x32</th>\n",
       "      <th>y32</th>\n",
       "      <th>z32</th>\n",
       "      <th>v32</th>\n",
       "      <th>x33</th>\n",
       "      <th>y33</th>\n",
       "      <th>z33</th>\n",
       "      <th>v33</th>\n",
       "    </tr>\n",
       "  </thead>\n",
       "  <tbody>\n",
       "    <tr>\n",
       "      <th>0</th>\n",
       "      <td>2.0</td>\n",
       "      <td>0.486863</td>\n",
       "      <td>0.327875</td>\n",
       "      <td>-0.488337</td>\n",
       "      <td>0.993785</td>\n",
       "      <td>0.487840</td>\n",
       "      <td>0.300638</td>\n",
       "      <td>-0.500518</td>\n",
       "      <td>0.988047</td>\n",
       "      <td>0.492339</td>\n",
       "      <td>...</td>\n",
       "      <td>0.536805</td>\n",
       "      <td>0.069007</td>\n",
       "      <td>0.676731</td>\n",
       "      <td>1.269443</td>\n",
       "      <td>0.228841</td>\n",
       "      <td>0.049455</td>\n",
       "      <td>0.575201</td>\n",
       "      <td>1.289941</td>\n",
       "      <td>0.357325</td>\n",
       "      <td>0.044117</td>\n",
       "    </tr>\n",
       "    <tr>\n",
       "      <th>1</th>\n",
       "      <td>2.0</td>\n",
       "      <td>0.487478</td>\n",
       "      <td>0.327466</td>\n",
       "      <td>-0.563560</td>\n",
       "      <td>0.994589</td>\n",
       "      <td>0.489192</td>\n",
       "      <td>0.300300</td>\n",
       "      <td>-0.569419</td>\n",
       "      <td>0.989206</td>\n",
       "      <td>0.494039</td>\n",
       "      <td>...</td>\n",
       "      <td>0.547285</td>\n",
       "      <td>0.076919</td>\n",
       "      <td>0.675951</td>\n",
       "      <td>1.265068</td>\n",
       "      <td>0.247452</td>\n",
       "      <td>0.052949</td>\n",
       "      <td>0.571935</td>\n",
       "      <td>1.288150</td>\n",
       "      <td>0.346206</td>\n",
       "      <td>0.048501</td>\n",
       "    </tr>\n",
       "    <tr>\n",
       "      <th>2</th>\n",
       "      <td>2.0</td>\n",
       "      <td>0.499366</td>\n",
       "      <td>0.323169</td>\n",
       "      <td>-0.628696</td>\n",
       "      <td>0.995261</td>\n",
       "      <td>0.499374</td>\n",
       "      <td>0.297625</td>\n",
       "      <td>-0.619610</td>\n",
       "      <td>0.990490</td>\n",
       "      <td>0.505360</td>\n",
       "      <td>...</td>\n",
       "      <td>0.574524</td>\n",
       "      <td>0.078438</td>\n",
       "      <td>0.682325</td>\n",
       "      <td>1.261319</td>\n",
       "      <td>0.305015</td>\n",
       "      <td>0.056239</td>\n",
       "      <td>0.571067</td>\n",
       "      <td>1.283025</td>\n",
       "      <td>0.367230</td>\n",
       "      <td>0.050384</td>\n",
       "    </tr>\n",
       "    <tr>\n",
       "      <th>3</th>\n",
       "      <td>2.0</td>\n",
       "      <td>0.502554</td>\n",
       "      <td>0.320817</td>\n",
       "      <td>-0.653112</td>\n",
       "      <td>0.995909</td>\n",
       "      <td>0.503170</td>\n",
       "      <td>0.295762</td>\n",
       "      <td>-0.641930</td>\n",
       "      <td>0.991762</td>\n",
       "      <td>0.509686</td>\n",
       "      <td>...</td>\n",
       "      <td>0.583987</td>\n",
       "      <td>0.078055</td>\n",
       "      <td>0.679628</td>\n",
       "      <td>1.256005</td>\n",
       "      <td>0.323335</td>\n",
       "      <td>0.058067</td>\n",
       "      <td>0.570486</td>\n",
       "      <td>1.276793</td>\n",
       "      <td>0.379827</td>\n",
       "      <td>0.050137</td>\n",
       "    </tr>\n",
       "    <tr>\n",
       "      <th>4</th>\n",
       "      <td>2.0</td>\n",
       "      <td>0.509379</td>\n",
       "      <td>0.319161</td>\n",
       "      <td>-0.656751</td>\n",
       "      <td>0.996615</td>\n",
       "      <td>0.510683</td>\n",
       "      <td>0.294830</td>\n",
       "      <td>-0.643753</td>\n",
       "      <td>0.993135</td>\n",
       "      <td>0.517237</td>\n",
       "      <td>...</td>\n",
       "      <td>0.586458</td>\n",
       "      <td>0.078207</td>\n",
       "      <td>0.681441</td>\n",
       "      <td>1.252536</td>\n",
       "      <td>0.345766</td>\n",
       "      <td>0.062272</td>\n",
       "      <td>0.568646</td>\n",
       "      <td>1.270885</td>\n",
       "      <td>0.392312</td>\n",
       "      <td>0.050663</td>\n",
       "    </tr>\n",
       "  </tbody>\n",
       "</table>\n",
       "<p>5 rows × 133 columns</p>\n",
       "</div>"
      ],
      "text/plain": [
       "   class        x1        y1        z1        v1        x2        y2  \\\n",
       "0    2.0  0.486863  0.327875 -0.488337  0.993785  0.487840  0.300638   \n",
       "1    2.0  0.487478  0.327466 -0.563560  0.994589  0.489192  0.300300   \n",
       "2    2.0  0.499366  0.323169 -0.628696  0.995261  0.499374  0.297625   \n",
       "3    2.0  0.502554  0.320817 -0.653112  0.995909  0.503170  0.295762   \n",
       "4    2.0  0.509379  0.319161 -0.656751  0.996615  0.510683  0.294830   \n",
       "\n",
       "         z2        v2        x3  ...       z31       v31       x32       y32  \\\n",
       "0 -0.500518  0.988047  0.492339  ...  0.536805  0.069007  0.676731  1.269443   \n",
       "1 -0.569419  0.989206  0.494039  ...  0.547285  0.076919  0.675951  1.265068   \n",
       "2 -0.619610  0.990490  0.505360  ...  0.574524  0.078438  0.682325  1.261319   \n",
       "3 -0.641930  0.991762  0.509686  ...  0.583987  0.078055  0.679628  1.256005   \n",
       "4 -0.643753  0.993135  0.517237  ...  0.586458  0.078207  0.681441  1.252536   \n",
       "\n",
       "        z32       v32       x33       y33       z33       v33  \n",
       "0  0.228841  0.049455  0.575201  1.289941  0.357325  0.044117  \n",
       "1  0.247452  0.052949  0.571935  1.288150  0.346206  0.048501  \n",
       "2  0.305015  0.056239  0.571067  1.283025  0.367230  0.050384  \n",
       "3  0.323335  0.058067  0.570486  1.276793  0.379827  0.050137  \n",
       "4  0.345766  0.062272  0.568646  1.270885  0.392312  0.050663  \n",
       "\n",
       "[5 rows x 133 columns]"
      ]
     },
     "execution_count": 78,
     "metadata": {},
     "output_type": "execute_result"
    }
   ],
   "source": [
    "df = pd.read_csv('lean.csv')\n",
    "df.head()"
   ]
  },
  {
   "cell_type": "code",
   "execution_count": 79,
   "metadata": {},
   "outputs": [],
   "source": [
    "X = df.drop('class',axis=1) # features\n",
    "Y = df['class'] # label"
   ]
  },
  {
   "cell_type": "code",
   "execution_count": 80,
   "metadata": {},
   "outputs": [],
   "source": [
    "X_train,X_test,Y_train,Y_test = train_test_split(X,Y,test_size=0.3,random_state=1234)"
   ]
  },
  {
   "cell_type": "code",
   "execution_count": 81,
   "metadata": {},
   "outputs": [],
   "source": [
    "# Training and Pipelining the Model\n",
    "from sklearn.pipeline import make_pipeline\n",
    "from sklearn.preprocessing import StandardScaler\n",
    "from sklearn.ensemble import RandomForestClassifier,GradientBoostingClassifier"
   ]
  },
  {
   "cell_type": "code",
   "execution_count": 82,
   "metadata": {},
   "outputs": [],
   "source": [
    "# Pipelines\n",
    "pipelines = {\n",
    "    'rf':make_pipeline(StandardScaler(),RandomForestClassifier()),\n",
    "    'gb':make_pipeline(StandardScaler(),GradientBoostingClassifier())\n",
    "}"
   ]
  },
  {
   "cell_type": "code",
   "execution_count": 83,
   "metadata": {},
   "outputs": [],
   "source": [
    "fit_models = {}\n",
    "for algo,pipeline in pipelines.items():\n",
    "    model = pipeline.fit(X_train,Y_train)\n",
    "    fit_models[algo] = model "
   ]
  },
  {
   "cell_type": "code",
   "execution_count": 84,
   "metadata": {},
   "outputs": [
    {
     "data": {
      "text/plain": [
       "{'rf': Pipeline(steps=[('standardscaler', StandardScaler()),\n",
       "                 ('randomforestclassifier', RandomForestClassifier())]),\n",
       " 'gb': Pipeline(steps=[('standardscaler', StandardScaler()),\n",
       "                 ('gradientboostingclassifier', GradientBoostingClassifier())])}"
      ]
     },
     "execution_count": 84,
     "metadata": {},
     "output_type": "execute_result"
    }
   ],
   "source": [
    "fit_models"
   ]
  },
  {
   "cell_type": "code",
   "execution_count": 85,
   "metadata": {},
   "outputs": [
    {
     "data": {
      "text/plain": [
       "array([2., 0., 1., 1., 1., 1., 2., 1., 2., 2., 0., 1., 1., 2., 1., 2., 1.,\n",
       "       2., 1., 0., 1., 1., 0., 2., 1., 0., 0., 2., 1., 1., 0., 0., 0., 0.,\n",
       "       0., 2., 0., 2., 1., 2., 1., 2., 1., 2., 1., 1., 1., 2., 1., 1., 0.,\n",
       "       2., 1., 1., 1., 2., 2., 0., 2., 2., 0., 1., 0., 1., 1., 2., 1., 2.,\n",
       "       1., 0., 0., 0., 0.])"
      ]
     },
     "execution_count": 85,
     "metadata": {},
     "output_type": "execute_result"
    }
   ],
   "source": [
    "fit_models['rf'].predict(X_test)"
   ]
  },
  {
   "cell_type": "markdown",
   "metadata": {},
   "source": [
    "Evaluate and Serialize the Model\n"
   ]
  },
  {
   "cell_type": "code",
   "execution_count": 86,
   "metadata": {},
   "outputs": [],
   "source": [
    "from sklearn.metrics import accuracy_score,precision_score,recall_score\n",
    "import pickle"
   ]
  },
  {
   "cell_type": "code",
   "execution_count": 87,
   "metadata": {},
   "outputs": [
    {
     "name": "stdout",
     "output_type": "stream",
     "text": [
      "rf 0.958904109589041 0.9588418430884185 0.958904109589041\n",
      "gb 0.958904109589041 0.9607721046077211 0.958904109589041\n"
     ]
    }
   ],
   "source": [
    "for algo,model in fit_models.items():\n",
    "    Y_pred = model.predict(X_test)\n",
    "    print(algo,accuracy_score(Y_test.values,Y_pred),\n",
    "          precision_score(Y_test.values,Y_pred,average='weighted'),\n",
    "          recall_score(Y_test.values,Y_pred,average='weighted'))"
   ]
  },
  {
   "cell_type": "code",
   "execution_count": 88,
   "metadata": {},
   "outputs": [
    {
     "data": {
      "text/plain": [
       "array([2., 0., 1., 1., 1., 1., 2., 1., 2., 2., 0., 1., 1., 2., 1., 2., 1.,\n",
       "       2., 1., 0., 1., 1., 0., 2., 1., 0., 0., 2., 1., 1., 0., 0., 0., 0.,\n",
       "       0., 2., 0., 2., 1., 2., 1., 2., 1., 2., 0., 0., 1., 2., 1., 1., 0.,\n",
       "       2., 1., 1., 1., 2., 2., 0., 2., 2., 0., 1., 0., 1., 1., 2., 1., 2.,\n",
       "       1., 0., 0., 0., 0.])"
      ]
     },
     "execution_count": 88,
     "metadata": {},
     "output_type": "execute_result"
    }
   ],
   "source": [
    "Y_pred = fit_models['gb'].predict(X_test)\n",
    "Y_pred"
   ]
  },
  {
   "cell_type": "code",
   "execution_count": 89,
   "metadata": {},
   "outputs": [],
   "source": [
    "with open('lean.pkl','wb') as f:\n",
    "    pickle.dump(fit_models['gb'],f)"
   ]
  },
  {
   "cell_type": "markdown",
   "metadata": {},
   "source": [
    "Making Detections with the Model"
   ]
  },
  {
   "cell_type": "code",
   "execution_count": 90,
   "metadata": {},
   "outputs": [],
   "source": [
    "with open('lean.pkl','rb') as f:\n",
    "    model = pickle.load(f)"
   ]
  },
  {
   "cell_type": "code",
   "execution_count": 91,
   "metadata": {},
   "outputs": [
    {
     "name": "stdout",
     "output_type": "stream",
     "text": [
      "'NoneType' object has no attribute 'landmark'\n",
      "'NoneType' object has no attribute 'landmark'\n",
      "'NoneType' object has no attribute 'landmark'\n",
      "'NoneType' object has no attribute 'landmark'\n",
      "'NoneType' object has no attribute 'landmark'\n",
      "'NoneType' object has no attribute 'landmark'\n",
      "'NoneType' object has no attribute 'landmark'\n",
      "'NoneType' object has no attribute 'landmark'\n",
      "'NoneType' object has no attribute 'landmark'\n",
      "'NoneType' object has no attribute 'landmark'\n",
      "'NoneType' object has no attribute 'landmark'\n",
      "'NoneType' object has no attribute 'landmark'\n",
      "'NoneType' object has no attribute 'landmark'\n",
      "'NoneType' object has no attribute 'landmark'\n",
      "'NoneType' object has no attribute 'landmark'\n",
      "'NoneType' object has no attribute 'landmark'\n",
      "'NoneType' object has no attribute 'landmark'\n",
      "'NoneType' object has no attribute 'landmark'\n",
      "'NoneType' object has no attribute 'landmark'\n",
      "'NoneType' object has no attribute 'landmark'\n",
      "'NoneType' object has no attribute 'landmark'\n",
      "'NoneType' object has no attribute 'landmark'\n",
      "'NoneType' object has no attribute 'landmark'\n",
      "'NoneType' object has no attribute 'landmark'\n",
      "'NoneType' object has no attribute 'landmark'\n",
      "'NoneType' object has no attribute 'landmark'\n",
      "'NoneType' object has no attribute 'landmark'\n",
      "'NoneType' object has no attribute 'landmark'\n",
      "'NoneType' object has no attribute 'landmark'\n",
      "'NoneType' object has no attribute 'landmark'\n",
      "'NoneType' object has no attribute 'landmark'\n",
      "'NoneType' object has no attribute 'landmark'\n",
      "'NoneType' object has no attribute 'landmark'\n",
      "'NoneType' object has no attribute 'landmark'\n",
      "'NoneType' object has no attribute 'landmark'\n",
      "'NoneType' object has no attribute 'landmark'\n",
      "'NoneType' object has no attribute 'landmark'\n",
      "'NoneType' object has no attribute 'landmark'\n",
      "'NoneType' object has no attribute 'landmark'\n",
      "'NoneType' object has no attribute 'landmark'\n",
      "'NoneType' object has no attribute 'landmark'\n",
      "'NoneType' object has no attribute 'landmark'\n",
      "'NoneType' object has no attribute 'landmark'\n",
      "'NoneType' object has no attribute 'landmark'\n",
      "'NoneType' object has no attribute 'landmark'\n",
      "'NoneType' object has no attribute 'landmark'\n",
      "'NoneType' object has no attribute 'landmark'\n",
      "'NoneType' object has no attribute 'landmark'\n",
      "'NoneType' object has no attribute 'landmark'\n",
      "'NoneType' object has no attribute 'landmark'\n",
      "'NoneType' object has no attribute 'landmark'\n",
      "'NoneType' object has no attribute 'landmark'\n",
      "'NoneType' object has no attribute 'landmark'\n",
      "'NoneType' object has no attribute 'landmark'\n",
      "'NoneType' object has no attribute 'landmark'\n",
      "'NoneType' object has no attribute 'landmark'\n",
      "'NoneType' object has no attribute 'landmark'\n",
      "'NoneType' object has no attribute 'landmark'\n",
      "'NoneType' object has no attribute 'landmark'\n",
      "'NoneType' object has no attribute 'landmark'\n",
      "'NoneType' object has no attribute 'landmark'\n",
      "'NoneType' object has no attribute 'landmark'\n"
     ]
    }
   ],
   "source": [
    "cap = cv2.VideoCapture(0)\n",
    "current_Stage = ''\n",
    "with mp_pose.Pose(min_detection_confidence=0.5,min_tracking_confidence=0.5) as pose:\n",
    "    while cap.isOpened():\n",
    "        ret,frame = cap.read()\n",
    "\n",
    "        # Recolor Feed\n",
    "        image = cv2.cvtColor(frame,cv2.COLOR_BGR2RGB)\n",
    "        image.flags.writeable = False\n",
    "\n",
    "        # Make Detections\n",
    "        results = pose.process(image)\n",
    "\n",
    "        # Recolor it back\n",
    "        image.flags.writeable = True\n",
    "        image = cv2.cvtColor(image,cv2.COLOR_RGB2BGR)\n",
    "\n",
    "        # Draw Landmarks\n",
    "        mp_drawing.draw_landmarks(image,results.pose_landmarks,mp_pose.POSE_CONNECTIONS\n",
    "                                  , mp_drawing.DrawingSpec(color=(245,117,66),thickness=2,circle_radius=4),\n",
    "                                  mp_drawing.DrawingSpec(color=(245,66,230),thickness=2,circle_radius=2))\n",
    "        \n",
    "        try:\n",
    "            row = np.array([[res.x,res.y,res.z,res.visibility] for res in results.pose_landmarks.landmark]).flatten().tolist()\n",
    "            X = pd.DataFrame([row],columns=landmarks[1:])\n",
    "            bodylang_prob = model.predict_proba(X)[0]\n",
    "            bodylang_class = model.predict(X)[0]\n",
    "            \n",
    "            if bodylang_class==0.0 and bodylang_prob[bodylang_prob.argmax()] > 0.7:\n",
    "                current_Stage = \"Left\"\n",
    "            elif bodylang_class==1.0 and bodylang_prob[bodylang_prob.argmax()] > 0.7:\n",
    "                current_Stage = \"Centre\"\n",
    "            elif bodylang_class==2.0 and bodylang_prob[bodylang_prob.argmax()] > 0.7:\n",
    "                current_Stage = \"Right\"\n",
    "\n",
    "            # Get status box\n",
    "            cv2.rectangle(image,(0,0),(250,60),(245,117,16),-1)\n",
    "\n",
    "            # Display Class\n",
    "            cv2.putText(image,'Class',\n",
    "                        (95,12),cv2.FONT_HERSHEY_SIMPLEX,0.5,(0,0,0),1,cv2.LINE_AA)\n",
    "            cv2.putText(image,current_Stage,\n",
    "                            (90,40),cv2.FONT_HERSHEY_SIMPLEX,1,(255,255,255),2,cv2.LINE_AA)\n",
    "            # if bodylang_class==0.0:\n",
    "            #     cv2.putText(image,\"LEFT\",\n",
    "            #                 (90,40),cv2.FONT_HERSHEY_SIMPLEX,1,(255,255,255),2,cv2.LINE_AA)\n",
    "            # elif bodylang_class==1.0:\n",
    "            #     cv2.putText(image,\"UP\",\n",
    "            #                 (90,40),cv2.FONT_HERSHEY_SIMPLEX,1,(255,255,255),2,cv2.LINE_AA)\n",
    "            # Display Probability\n",
    "            cv2.putText(image,'Prob',\n",
    "                        (15,12),cv2.FONT_HERSHEY_SIMPLEX,0.5,(0,0,0),1,cv2.LINE_AA)\n",
    "            cv2.putText(image,str(round(bodylang_prob[np.argmax(bodylang_prob)],2)),\n",
    "                        (10,40),cv2.FONT_HERSHEY_SIMPLEX,1,(255,255,255),2,cv2.LINE_AA)\n",
    "            cv2.imshow('Deadlifts Lean',image)\n",
    "            if cv2.waitKey(10) & 0xFF == ord('q'):\n",
    "                break\n",
    "        except Exception as e:\n",
    "            print(e)\n",
    "            pass   \n",
    "cap.release()\n",
    "cv2.destroyAllWindows()"
   ]
  },
  {
   "cell_type": "code",
   "execution_count": null,
   "metadata": {},
   "outputs": [],
   "source": []
  },
  {
   "cell_type": "code",
   "execution_count": null,
   "metadata": {},
   "outputs": [],
   "source": []
  }
 ],
 "metadata": {
  "kernelspec": {
   "display_name": "Python 3",
   "language": "python",
   "name": "python3"
  },
  "language_info": {
   "codemirror_mode": {
    "name": "ipython",
    "version": 3
   },
   "file_extension": ".py",
   "mimetype": "text/x-python",
   "name": "python",
   "nbconvert_exporter": "python",
   "pygments_lexer": "ipython3",
   "version": "3.11.3"
  }
 },
 "nbformat": 4,
 "nbformat_minor": 2
}
